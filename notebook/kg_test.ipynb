{
 "cells": [
  {
   "cell_type": "code",
   "id": "initial_id",
   "metadata": {
    "collapsed": true,
    "ExecuteTime": {
     "end_time": "2024-06-22T12:37:41.369614Z",
     "start_time": "2024-06-22T12:37:41.345614Z"
    }
   },
   "source": [
    "import os\n",
    "import sys\n",
    "\n",
    "# 获取当前工作目录\n",
    "current_dir = os.getcwd()\n",
    "# 设置项目根目录\n",
    "project_root = os.path.abspath(os.path.join(current_dir, \"..\"))\n",
    "# 将项目根目录添加到sys.path\n",
    "sys.path.insert(0, project_root)"
   ],
   "execution_count": 1,
   "outputs": []
  },
  {
   "metadata": {
    "ExecuteTime": {
     "end_time": "2024-06-22T12:39:22.523282Z",
     "start_time": "2024-06-22T12:39:20.121420Z"
    }
   },
   "cell_type": "code",
   "source": [
    "from langchain_community.graphs import Neo4jGraph\n",
    "\n",
    "\n",
    "neo4j_graph = Neo4jGraph(\n",
    "    url='neo4j://192.168.0.103:7687', username='neo4j', password='password')\n"
   ],
   "id": "278bfe27005c40f4",
   "execution_count": 3,
   "outputs": []
  },
  {
   "metadata": {
    "ExecuteTime": {
     "end_time": "2024-06-22T12:51:29.756572Z",
     "start_time": "2024-06-22T12:51:28.883627Z"
    }
   },
   "cell_type": "code",
   "source": [
    "from openai import OpenAI\n",
    "import os\n",
    "from utils import prompt_template\n",
    "from langchain_openai import OpenAIEmbeddings, ChatOpenAI\n",
    "from langchain_experimental.graph_transformers import LLMGraphTransformer\n",
    "from langchain.text_splitter import RecursiveCharacterTextSplitter\n",
    "\n",
    "deepseek_key = os.environ.get('DEEPSEEK_KEY')\n",
    "\n",
    "llm=ChatOpenAI(model_name=\"deepseek-chat\", api_key=deepseek_key, base_url=\"https://api.deepseek.com\")\n",
    "llm_transformer = LLMGraphTransformer(llm=llm)\n",
    "\n",
    "raw_documents = \"\"\"\n",
    "通知MIB定义在zxcomc-snmp-notificationirp-mib-v1.0.txt文件中，该MIB文件在alarmIRP部分新增notificationIRP对象，该MIB库主要定义统一北向接口中和通知属性相关的对象，功能如下：\n",
    "\n",
    "ntsAttribute{ .1.3.6.1.4.1.3902.4101.10.1}分支，其下属性为通知中各字段的属性标识。\n",
    "\n",
    "ntsNotifications{.1.3.6.1.4.1.3902.4101.10.2}分支，其下属性用于定义通知Trap标识，目前有通知上报Trap(ntsNotificationNew)。\n",
    "\n",
    "ntsNotificationFilter{.1.3.6.1.4.1.3902.4101.10.3}分支，用于通知Trap消息的上报过滤条件，只有满足条件的通知消息才被发送到上级。\n",
    "\"\"\"\n",
    "text_splitter = RecursiveCharacterTextSplitter(chunk_size=512, chunk_overlap=24)\n",
    "documents = text_splitter.create_documents([raw_documents])\n",
    "print(documents)"
   ],
   "id": "aa317d41a8cb25c4",
   "execution_count": 11,
   "outputs": []
  },
  {
   "metadata": {
    "ExecuteTime": {
     "end_time": "2024-06-22T12:51:47.054029Z",
     "start_time": "2024-06-22T12:51:30.079680Z"
    }
   },
   "cell_type": "code",
   "source": [
    "# 提取图数据\n",
    "graph_documents = llm_transformer.convert_to_graph_documents(documents)\n",
    "\n",
    "print(graph_documents)\n",
    "\n",
    "# 存储到 neo4j\n",
    "neo4j_graph.add_graph_documents(\n",
    "  graph_documents, \n",
    "  baseEntityLabel=True, \n",
    "  include_source=True\n",
    ")"
   ],
   "id": "205862b838e0c008",
   "execution_count": 12,
   "outputs": []
  },
  {
   "metadata": {
    "ExecuteTime": {
     "end_time": "2024-06-22T15:02:59.831881Z",
     "start_time": "2024-06-22T15:02:37.090958Z"
    }
   },
   "cell_type": "code",
   "source": [
    "import os\n",
    "\n",
    "from langchain_experimental.graph_transformers import LLMGraphTransformer\n",
    "from langchain_openai import ChatOpenAI\n",
    "from langchain_core.documents import Document\n",
    "deepseek_key = os.environ.get('DEEPSEEK_KEY')\n",
    "\n",
    "llm = ChatOpenAI(temperature=0, model_name=\"deepseek-chat\", api_key=deepseek_key, base_url=\"https://api.deepseek.com\")\n",
    "\n",
    "llm_transformer = LLMGraphTransformer(llm=llm)\n",
    "\n",
    "\n",
    "text = \"\"\"\n",
    "Marie Curie, born in 1867, was a Polish and naturalised-French physicist and chemist who conducted pioneering research on radioactivity.\n",
    "She was the first woman to win a Nobel Prize, the first person to win a Nobel Prize twice, and the only person to win a Nobel Prize in two scientific fields.\n",
    "Her husband, Pierre Curie, was a co-winner of her first Nobel Prize, making them the first-ever married couple to win the Nobel Prize and launching the Curie family legacy of five Nobel Prizes.\n",
    "She was, in 1906, the first woman to become a professor at the University of Paris.\n",
    "\"\"\"\n",
    "documents = [Document(page_content=text)]\n",
    "graph_documents = llm_transformer.convert_to_graph_documents(documents)\n",
    "print(f\"Nodes:{graph_documents[0].nodes}\")\n",
    "print(f\"Relationships:{graph_documents[0].relationships}\")"
   ],
   "id": "434b4bccef6ad87f",
   "execution_count": 13,
   "outputs": []
  },
  {
   "metadata": {},
   "cell_type": "code",
   "execution_count": null,
   "source": "",
   "id": "233b7946cdd7667f",
   "outputs": []
  }
 ],
 "metadata": {
  "kernelspec": {
   "display_name": "Python 3",
   "language": "python",
   "name": "python3"
  },
  "language_info": {
   "codemirror_mode": {
    "name": "ipython",
    "version": 2
   },
   "file_extension": ".py",
   "mimetype": "text/x-python",
   "name": "python",
   "nbconvert_exporter": "python",
   "pygments_lexer": "ipython2",
   "version": "2.7.6"
  }
 },
 "nbformat": 4,
 "nbformat_minor": 5
}
