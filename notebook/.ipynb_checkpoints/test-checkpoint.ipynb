{
 "cells": [
  {
   "cell_type": "code",
   "execution_count": 3,
   "id": "e2d1233d-03e6-48c0-b42d-93750730454c",
   "metadata": {},
   "source": [
    "import os\n",
    "import sys\n",
    "\n",
    "# 获取当前工作目录\n",
    "current_dir = os.getcwd()\n",
    "\n",
    "# 设置项目根目录（假设项目根目录是当前目录的上一级）\n",
    "project_root = os.path.abspath(os.path.join(current_dir, \"..\"))\n",
    "\n",
    "# 将项目根目录添加到sys.path\n",
    "sys.path.insert(0, project_root)\n",
    "\n",
    "# 检查sys.path\n",
    "print(sys.path)\n"
   ],
   "outputs": []
  },
  {
   "cell_type": "code",
   "execution_count": 4,
   "id": "initial_id",
   "metadata": {
    "jupyter": {
     "is_executing": true
    }
   },
   "source": [
    "from pre import es\n",
    "from api import deepseek"
   ],
   "outputs": []
  },
  {
   "cell_type": "code",
   "execution_count": null,
   "id": "a1b8e282c398d050",
   "metadata": {},
   "source": [
    "question = 'Director接收南向告警的snmp端口号是多少'\n",
    "kws = deepseek.extract_keywords(question)\n",
    "result = es.search_by_root_and_keywords('director', kws)['hits']['hits']\n",
    "print(result)"
   ],
   "outputs": []
  },
  {
   "cell_type": "code",
   "execution_count": null,
   "id": "88c605c1-4694-4405-a7b4-e27acc67f09a",
   "metadata": {},
   "source": [],
   "outputs": []
  }
 ],
 "metadata": {
  "kernelspec": {
   "display_name": "Python 3 (ipykernel)",
   "language": "python",
   "name": "python3"
  },
  "language_info": {
   "codemirror_mode": {
    "name": "ipython",
    "version": 3
   },
   "file_extension": ".py",
   "mimetype": "text/x-python",
   "name": "python",
   "nbconvert_exporter": "python",
   "pygments_lexer": "ipython3",
   "version": "3.9.19"
  }
 },
 "nbformat": 4,
 "nbformat_minor": 5
}
