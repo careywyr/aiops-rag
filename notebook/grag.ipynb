{
 "cells": [
  {
   "cell_type": "code",
   "id": "initial_id",
   "metadata": {
    "collapsed": true,
    "ExecuteTime": {
     "end_time": "2024-06-26T15:10:58.744384Z",
     "start_time": "2024-06-26T15:10:58.737384Z"
    }
   },
   "source": [
    "import os\n",
    "import sys\n",
    "\n",
    "# 获取当前工作目录\n",
    "current_dir = os.getcwd()\n",
    "# 设置项目根目录\n",
    "project_root = os.path.abspath(os.path.join(current_dir, \"..\"))\n",
    "# 将项目根目录添加到sys.path\n",
    "sys.path.insert(0, project_root)"
   ],
   "outputs": [],
   "execution_count": 1
  },
  {
   "metadata": {
    "ExecuteTime": {
     "end_time": "2024-06-26T15:08:05.093217Z",
     "start_time": "2024-06-26T15:07:51.485579Z"
    }
   },
   "cell_type": "code",
   "source": [
    "import networkx as nx\n",
    "from sentence_transformers import SentenceTransformer\n",
    "from pre import html_processor\n",
    "\n",
    "# model = SentenceTransformer(\"D:\\\\Workspace\\\\models\\\\bce-embedding-base_v1\", device='cuda')\n"
   ],
   "id": "a27ef7991dd86714",
   "outputs": [
    {
     "name": "stdout",
     "output_type": "stream",
     "text": [
      "Document count in index 'aiops_v3': 131239\n",
      "处理第1页数据\n",
      "处理第1页数据\n",
      "处理第1页数据\n",
      "处理第1页数据\n",
      "处理第1页数据\n",
      "处理第1页数据\n",
      "处理第1页数据\n",
      "处理第1页数据\n",
      "处理第1页数据\n",
      "处理第1页数据\n",
      "处理第1页数据\n",
      "处理第1页数据\n",
      "处理第1页数据\n",
      "处理第1页数据\n",
      "处理第1页数据\n",
      "处理第1页数据\n",
      "处理第1页数据\n"
     ]
    },
    {
     "name": "stderr",
     "output_type": "stream",
     "text": [
      "\n",
      "KeyboardInterrupt\n",
      "\n"
     ]
    }
   ],
   "execution_count": 2
  },
  {
   "metadata": {},
   "cell_type": "code",
   "outputs": [],
   "execution_count": null,
   "source": [
    "from utils import splitter\n",
    "\n",
    "root_path = 'D:/Workspace/aiops2024-challenge-dataset/htmls/director'\n",
    "data_models = html_processor.parse_xml(root_path + '/nodetree.xml', 'director')\n",
    "print(f'要处理的文件数量: {len(data_models)}')\n",
    "loop = 1\n",
    "documents = []\n",
    "for data_model in data_models:\n",
    "    print(\n",
    "        f'loop: {loop}, root: {data_model.root}, name: {data_model.name}, url: {data_model.url}, Doctype: {data_model.doctype}, Catalogs: {data_model.catalogs}')\n",
    "    # 按照url去读取文件\n",
    "    dst_url = root_path + '/documents/' + data_model.url\n",
    "    \n",
    "    content = html_processor.html_to_markdown(dst_url)\n",
    "    if len(content) > 1024:\n",
    "        document = {data_model.name: content}\n",
    "    else:\n",
    "        docs = splitter.split_markdown(content, max_length=1024)\n",
    "        paragraphs = [doc.page_content for doc in docs]"
   ],
   "id": "c8ab3f4162fb77f2"
  },
  {
   "metadata": {},
   "cell_type": "code",
   "outputs": [],
   "execution_count": null,
   "source": [
    "\n",
    "# 示例文档内容\n",
    "documents = {\n",
    "    \"doc1\": \"素胚勾勒出青花笔锋浓转淡.\\n而你嫣然地一笑如昙花绽放\",\n",
    "    \"doc2\": \"天青色等烟雨\\n而我在等你\",\n",
    "    \"doc3\": \"古巴比伦王颁布了汉谟拉比法典刻在黑色的玄武岩距今已经三千七百多年\\n你在橱窗前凝视碑文的字眼\"\n",
    "}\n",
    "\n",
    "# 创建图并添加节点（段落为节点）\n",
    "G = nx.Graph()\n",
    "for doc_id, content in documents.items():\n",
    "    paragraphs = content.split(\"\\n\")\n",
    "    for i, paragraph in enumerate(paragraphs):\n",
    "        node_id = f\"{doc_id}_p{i+1}\"\n",
    "        G.add_node(node_id, text=paragraph)\n",
    "\n",
    "# 示例：根据段落内容相似度添加边（可以根据实际需求计算相似度后添加）\n",
    "G.add_edge(\"doc1_p1\", \"doc3_p1\", text=\"Related content between doc1_p1 and doc3_p1\")\n",
    "G.add_edge(\"doc2_p1\", \"doc3_p2\", text=\"Related content between doc2_p1 and doc3_p2\")\n",
    "\n",
    "# 计算节点和边的嵌入\n",
    "def compute_text_embeddings(graph):\n",
    "    node_embeddings = {}\n",
    "    for node in graph.nodes(data=True):\n",
    "        node_embeddings[node[0]] = model.encode(node[1]['text'])\n",
    "    \n",
    "    edge_embeddings = {}\n",
    "    for edge in graph.edges(data=True):\n",
    "        edge_embeddings[(edge[0], edge[1])] = model.encode(edge[2]['text'])\n",
    "    \n",
    "    return node_embeddings, edge_embeddings\n",
    "\n",
    "node_embeddings, edge_embeddings = compute_text_embeddings(G)"
   ],
   "id": "8f5597777ec4bf79"
  },
  {
   "metadata": {
    "ExecuteTime": {
     "end_time": "2024-06-26T14:46:28.174666Z",
     "start_time": "2024-06-26T14:46:28.129668Z"
    }
   },
   "cell_type": "code",
   "source": [
    "import numpy as np\n",
    "\n",
    "# 查询示例\n",
    "query = \"汉谟拉比法典\"\n",
    "query_embedding = model.encode(query)\n",
    "\n",
    "# 计算相似度并检索最相关的k跳自我图\n",
    "def retrieve_subgraphs(graph, query_embedding, node_embeddings, top_k=5):\n",
    "    similarities = {}\n",
    "    for node, embedding in node_embeddings.items():\n",
    "        similarity = np.dot(query_embedding, embedding) / (np.linalg.norm(query_embedding) * np.linalg.norm(embedding))\n",
    "        similarities[node] = similarity\n",
    "    \n",
    "    # 按相似度排序并选择前k个节点\n",
    "    sorted_nodes = sorted(similarities.items(), key=lambda item: item[1], reverse=True)[:top_k]\n",
    "    subgraphs = [nx.ego_graph(graph, node, radius=1) for node, _ in sorted_nodes]\n",
    "    \n",
    "    return subgraphs\n",
    "\n",
    "subgraphs = retrieve_subgraphs(G, query_embedding, node_embeddings)\n"
   ],
   "id": "4844713e05cf5909",
   "outputs": [],
   "execution_count": 12
  },
  {
   "metadata": {
    "ExecuteTime": {
     "end_time": "2024-06-26T14:44:13.121291Z",
     "start_time": "2024-06-26T14:44:13.112291Z"
    }
   },
   "cell_type": "code",
   "source": [
    "def soft_pruning(subgraphs, query_embedding, node_embeddings, edge_embeddings):\n",
    "    pruned_subgraphs = []\n",
    "    for subgraph in subgraphs:\n",
    "        for node in list(subgraph.nodes):\n",
    "            if np.dot(query_embedding, node_embeddings[node]) < 0.5:  # 阈值可以调整\n",
    "                subgraph.remove_node(node)\n",
    "        for edge in list(subgraph.edges(data=True)):\n",
    "            if np.dot(query_embedding, edge_embeddings[(edge[0], edge[1])]) < 0.5:\n",
    "                subgraph.remove_edge(edge[0], edge[1])\n",
    "        pruned_subgraphs.append(subgraph)\n",
    "    return pruned_subgraphs\n",
    "\n",
    "pruned_subgraphs = soft_pruning(subgraphs, query_embedding, node_embeddings, edge_embeddings)\n"
   ],
   "id": "e4b3a944e6b1b913",
   "outputs": [],
   "execution_count": 8
  },
  {
   "metadata": {
    "ExecuteTime": {
     "end_time": "2024-06-26T14:44:14.533994Z",
     "start_time": "2024-06-26T14:44:14.519995Z"
    }
   },
   "cell_type": "code",
   "source": [
    "for subgraph in pruned_subgraphs:\n",
    "    print(subgraph.nodes)"
   ],
   "id": "1447d6e126fa5a8f",
   "outputs": [
    {
     "name": "stdout",
     "output_type": "stream",
     "text": [
      "['doc3_p1']\n",
      "[]\n",
      "[]\n",
      "['doc3_p1']\n",
      "[]\n"
     ]
    }
   ],
   "execution_count": 9
  },
  {
   "metadata": {
    "ExecuteTime": {
     "end_time": "2024-06-26T14:46:34.781624Z",
     "start_time": "2024-06-26T14:46:34.638617Z"
    }
   },
   "cell_type": "code",
   "source": [
    "import networkx as nx\n",
    "import matplotlib.pyplot as plt\n",
    "\n",
    "# 创建一个示例图\n",
    "# G = nx.Graph()\n",
    "# G.add_node(\"A\", label=\"Node A\")\n",
    "# G.add_node(\"B\", label=\"Node B\")\n",
    "# G.add_edge(\"A\", \"B\", weight=1)\n",
    "\n",
    "# 绘制图并保存为图像文件\n",
    "plt.figure(figsize=(8, 6))\n",
    "pos = nx.spring_layout(G)\n",
    "nx.draw(G, pos, with_labels=True, node_color='skyblue', edge_color='gray', node_size=2000, font_size=16, font_weight='bold')\n",
    "labels = nx.get_edge_attributes(G, 'weight')\n",
    "nx.draw_networkx_edge_labels(G, pos, edge_labels=labels)\n",
    "plt.savefig('graph.png')\n",
    "plt.show()\n"
   ],
   "id": "970cbf1fffde49ca",
   "outputs": [
    {
     "data": {
      "text/plain": [
       "<Figure size 800x600 with 1 Axes>"
      ],
      "image/png": "[encoded data removed]"
     },
     "metadata": {},
     "output_type": "display_data"
    }
   ],
   "execution_count": 13
  },
  {
   "metadata": {
    "ExecuteTime": {
     "end_time": "2024-06-26T15:11:03.341228Z",
     "start_time": "2024-06-26T15:11:02.813998Z"
    }
   },
   "cell_type": "code",
   "source": [
    "from langchain.text_splitter import MarkdownHeaderTextSplitter\n",
    "from utils.splitter import *\n",
    "\n",
    "\n",
    "text = \"\"\"\n",
    "# 标题1\n",
    "## 标题2\n",
    "今天星期一\n",
    "今天星期二\n",
    "上的飞机到附件为\n",
    "微软微软\n",
    "\"\"\"\n",
    "contents = split_markdown(text)\n",
    "print(contents)\n",
    "    \n",
    "    "
   ],
   "id": "619ad835a22d685a",
   "outputs": [
    {
     "name": "stdout",
     "output_type": "stream",
     "text": [
      "[{'content': '# 标题1\\n## 标题2\\n今天星期一\\n今天星期二\\n上的飞机到附件为\\n微软微软', 'h1': '标题1', 'h2': '标题2'}]\n"
     ]
    }
   ],
   "execution_count": 2
  },
  {
   "metadata": {
    "ExecuteTime": {
     "end_time": "2024-06-26T15:06:12.182698Z",
     "start_time": "2024-06-26T15:06:12.153698Z"
    }
   },
   "cell_type": "code",
   "source": "from pre import html_processor",
   "id": "685c7992e1c227b8",
   "outputs": [
    {
     "ename": "ModuleNotFoundError",
     "evalue": "No module named 'pre'",
     "output_type": "error",
     "traceback": [
      "\u001B[1;31m---------------------------------------------------------------------------\u001B[0m",
      "\u001B[1;31mModuleNotFoundError\u001B[0m                       Traceback (most recent call last)",
      "Cell \u001B[1;32mIn[22], line 1\u001B[0m\n\u001B[1;32m----> 1\u001B[0m \u001B[38;5;28;01mfrom\u001B[39;00m \u001B[38;5;21;01mpre\u001B[39;00m \u001B[38;5;28;01mimport\u001B[39;00m html_processor\n",
      "\u001B[1;31mModuleNotFoundError\u001B[0m: No module named 'pre'"
     ]
    }
   ],
   "execution_count": 22
  },
  {
   "metadata": {},
   "cell_type": "code",
   "outputs": [],
   "execution_count": null,
   "source": "",
   "id": "83ae8f623b6d0b1f"
  }
 ],
 "metadata": {
  "kernelspec": {
   "display_name": "Python 3",
   "language": "python",
   "name": "python3"
  },
  "language_info": {
   "codemirror_mode": {
    "name": "ipython",
    "version": 2
   },
   "file_extension": ".py",
   "mimetype": "text/x-python",
   "name": "python",
   "nbconvert_exporter": "python",
   "pygments_lexer": "ipython2",
   "version": "2.7.6"
  }
 },
 "nbformat": 4,
 "nbformat_minor": 5
}
