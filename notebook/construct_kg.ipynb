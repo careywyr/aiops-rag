{
 "cells": [
  {
   "cell_type": "code",
   "id": "initial_id",
   "metadata": {
    "collapsed": true,
    "ExecuteTime": {
     "end_time": "2024-06-23T06:15:13.876835Z",
     "start_time": "2024-06-23T06:15:13.857830Z"
    }
   },
   "source": [
    "import os\n",
    "import sys\n",
    "\n",
    "# 获取当前工作目录\n",
    "current_dir = os.getcwd()\n",
    "# 设置项目根目录\n",
    "project_root = os.path.abspath(os.path.join(current_dir, \"..\"))\n",
    "# 将项目根目录添加到sys.path\n",
    "sys.path.insert(0, project_root)"
   ],
   "execution_count": 1,
   "outputs": []
  },
  {
   "metadata": {
    "ExecuteTime": {
     "end_time": "2024-06-23T06:15:13.892846Z",
     "start_time": "2024-06-23T06:15:13.878832Z"
    }
   },
   "cell_type": "code",
   "source": "errors = set()",
   "id": "9b2e0091c78d4aa2",
   "execution_count": 2,
   "outputs": []
  },
  {
   "metadata": {
    "ExecuteTime": {
     "end_time": "2024-06-23T06:15:30.259052Z",
     "start_time": "2024-06-23T06:15:13.894830Z"
    }
   },
   "cell_type": "code",
   "source": [
    "from db import kg\n",
    "from pre import html_processor\n",
    "from utils import splitter\n",
    "from api import glm,deepseek\n",
    "from json import JSONDecodeError\n",
    "\n",
    "\n",
    "def read_file(root_path, root_name):\n",
    "    data_models = html_processor.parse_xml(root_path + '/nodetree.xml', root_name)\n",
    "    print(f'要处理的文件数量: {len(data_models)}')\n",
    "    \n",
    "    for loop, data_model in enumerate(data_models):\n",
    "        print(f'loop: {loop}, root: {data_model.root}, name: {data_model.name}, url: {data_model.url}')\n",
    "        # 按照url去读取文件\n",
    "        dst_url = root_path + '/documents/' + data_model.url\n",
    "        content = html_processor.html_to_markdown(dst_url)\n",
    "        \n",
    "        if len(content) > 3000:\n",
    "            docs = splitter.split_markdown(content, 1024)\n",
    "\n",
    "            for doc in docs:\n",
    "                content = '# ' + doc.get('h1') + '\\n' if doc.get('h1') else ''\n",
    "                content += '## ' + doc.get('h2') + '\\n' if doc.get('h2') else ''\n",
    "                content += doc.get('content')\n",
    "                try:\n",
    "                    graphs = deepseek.extract_knowledge_graph(content)\n",
    "                except JSONDecodeError:\n",
    "                    errors.add(dst_url)\n",
    "                    continue\n",
    "                kg.store_graph_extracts(graphs)\n",
    "\n",
    "        try:\n",
    "            graphs = deepseek.extract_knowledge_graph(content)\n",
    "        except JSONDecodeError:\n",
    "            errors.add(dst_url)\n",
    "            continue\n",
    "        kg.store_graph_extracts(graphs)\n"
   ],
   "id": "7a2d163de50ee844",
   "execution_count": 3,
   "outputs": []
  },
  {
   "metadata": {
    "ExecuteTime": {
     "end_time": "2024-06-23T08:02:38.864524Z",
     "start_time": "2024-06-23T06:15:30.261051Z"
    }
   },
   "cell_type": "code",
   "source": "read_file('D:\\\\Workspace\\\\aiops2024-challenge-dataset\\\\emsplus', 'emsplus')",
   "id": "5fa44c452082c478",
   "execution_count": 4,
   "outputs": []
  },
  {
   "metadata": {
    "ExecuteTime": {
     "end_time": "2024-06-23T08:02:38.867517Z",
     "start_time": "2024-06-23T08:02:38.866518Z"
    }
   },
   "cell_type": "code",
   "source": "read_file('D:\\\\Workspace\\\\aiops2024-challenge-dataset\\\\director', 'director')  ",
   "id": "57d255c47bedbdd2",
   "execution_count": null,
   "outputs": []
  },
  {
   "metadata": {},
   "cell_type": "code",
   "source": "read_file('D:\\\\Workspace\\\\aiops2024-challenge-dataset\\\\rcp', 'rcp')",
   "id": "794d691e0e216b4a",
   "execution_count": null,
   "outputs": []
  },
  {
   "metadata": {},
   "cell_type": "code",
   "source": "read_file('D:\\\\Workspace\\\\aiops2024-challenge-dataset\\\\umac', 'umac')",
   "id": "88941a3b81b6bba9",
   "execution_count": null,
   "outputs": []
  },
  {
   "metadata": {},
   "cell_type": "code",
   "execution_count": null,
   "source": "",
   "id": "b4c01af2d1535c17",
   "outputs": []
  }
 ],
 "metadata": {
  "kernelspec": {
   "display_name": "Python 3",
   "language": "python",
   "name": "python3"
  },
  "language_info": {
   "codemirror_mode": {
    "name": "ipython",
    "version": 2
   },
   "file_extension": ".py",
   "mimetype": "text/x-python",
   "name": "python",
   "nbconvert_exporter": "python",
   "pygments_lexer": "ipython2",
   "version": "2.7.6"
  }
 },
 "nbformat": 4,
 "nbformat_minor": 5
}
