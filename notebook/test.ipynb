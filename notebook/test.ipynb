{
 "cells": [
  {
   "cell_type": "code",
   "id": "e2d1233d-03e6-48c0-b42d-93750730454c",
   "metadata": {
    "ExecuteTime": {
     "end_time": "2024-06-22T08:44:58.509983Z",
     "start_time": "2024-06-22T08:44:58.496888Z"
    }
   },
   "source": [
    "import os\n",
    "import sys\n",
    "\n",
    "# 获取当前工作目录\n",
    "current_dir = os.getcwd()\n",
    "# 设置项目根目录\n",
    "project_root = os.path.abspath(os.path.join(current_dir, \"..\"))\n",
    "# 将项目根目录添加到sys.path\n",
    "sys.path.insert(0, project_root)"
   ],
   "outputs": [],
   "execution_count": 5
  },
  {
   "cell_type": "code",
   "id": "initial_id",
   "metadata": {
    "ExecuteTime": {
     "end_time": "2024-06-22T08:45:02.355826Z",
     "start_time": "2024-06-22T08:44:58.868472Z"
    }
   },
   "source": [
    "\n",
    "from db import es\n",
    "from api import deepseek\n",
    "from agent import retrieval"
   ],
   "outputs": [],
   "execution_count": 6
  },
  {
   "metadata": {},
   "cell_type": "code",
   "outputs": [],
   "execution_count": null,
   "source": "question = 'Director接收南向告警的snmp端口号是多少'",
   "id": "512cf67b1235841"
  },
  {
   "cell_type": "code",
   "id": "a1b8e282c398d050",
   "metadata": {
    "ExecuteTime": {
     "end_time": "2024-06-22T08:50:53.535858Z",
     "start_time": "2024-06-22T08:50:52.228046Z"
    }
   },
   "source": [
    "kws = deepseek.extract_keywords(question)\n",
    "print(kws)\n",
    "result = es.search_by_root_and_keywords('director', kws)['hits']['hits']\n",
    "contents = [hit['_source'] for hit in result]\n",
    "for content in contents:\n",
    "    print(content['url'], content['keywords'], content['content'])\n",
    "    print('===================================\\n')"
   ],
   "outputs": [
    {
     "name": "stdout",
     "output_type": "stream",
     "text": [
      "['Director', '南向告警', 'SNMP', '端口号']\n",
      "性能FTP北向接口规范/topics/6ce05c0daa814722aca4ac58d84b8da8.html ['FTP性能北向接口规范', '上级网管系统', '系统管理', '修改密码', '初始密码', 'pm', 'Perf#out1!', '登录名和密码', 'TECS', 'FTP', '性能FTP北向接口规范', '内控管理', '用户名', 'Director', '配置中心'] 上级网管系统到TECS\n",
      "Director取文件时，FTP用户名为pm，初始密码为Perf#out1!。可在系统管理→配置中心→内控管理页面上修改pm用户的密码。\n",
      "===================================\n",
      "\n",
      "告警SNMP北向接口规范/topics/6147725ddd864c6183501d0515dd8b3e.html ['网络管理协议', '网络事件警告', '监视网络状态', '管理工作站', 'SNMP接口简介', 'TECS Director', '接口概述', '告警SNMP北向接口规范', '第三方告警平台', '简单网络管理协议', '修改网络设备配置', '网络设备', 'SNMP', 'IETF', '互联网工程任务组', 'SNMP接口'] 简单网络管理协议（SNMP：Simple Network Management Protocol）是由互联网工程任务组（IETF：Internet\n",
      "Engineering Task Force\n",
      "）定义的一套网络管理协议。使用SNMP，一个管理工作站可以远程管理支持这种协议的网络设备，包括监视网络状态、修改网络设备配置、接收网络事件警告等。SNMP接口适用于TECS\n",
      "Director北向对接第三方告警平台的情况。\n",
      "===================================\n",
      "\n",
      "告警SNMP北向接口规范/topics/9ef66a112134464c8b16f3ae369ea823.html ['数据链路层', '网络层', '支持的SNMP协议', 'SNMP Get', '协议标准操作', 'SNMPv3', 'SNMPv2c 基于Community 的安全模型', 'SNMPv3 基于用户的安全模型', 'DL', 'SNMP Set', '接口概述', '告警SNMP北向接口规范', 'SNMP Get Bulk', 'IETF', 'SNMP Get Next', '协议栈', 'SNMPv2c Trap', 'IP', '应用层', 'UDP', 'PHY', 'SNMPv3 Trap', '物理层', 'SNMPv2c', '传输层', 'SNMP', '数据交互'] 采用SNMP协议方式进行数据交互，相应的协议栈参见表1。\n",
      "| 应用层 | SNMP |\n",
      "| --- | --- |\n",
      "| 传输层 | UDP |\n",
      "| 网络层 | IP |\n",
      "| 数据链路层 | DL |\n",
      "| 物理层 | PHY |\n",
      "SNMP接口支持IETF的SNMPv2c，SNMPv3协议。具体支持情况参见表2。\n",
      "| 协议类型 | 支持类型 |\n",
      "| --- | --- |\n",
      "| SNMPv2c | SNMPv2c 协议标准操作SNMP GetSNMP Get NextSNMP Get BulkSNMP SetSNMPv2cTrapSNMPv2c 基于Community 的安全模型 |\n",
      "| SNMPv3 | SNMPv3 协议标准操作SNMP GetSNMP Get NextSNMP Get BulkSNMP SetSNMPv3 TrapSNMPv3 基于用户的安全模型 |\n",
      "===================================\n",
      "\n",
      "告警SNMP北向接口规范/topics/306c8fa274cd4701aa5a29e027f6f733.html ['ZTE', '配置', '版本支持', 'V3', 'V2C', '告警SNMP北向接口规范', 'SNMP北向公共接口规范', 'SNMP', 'SNMP版本支持', '北向接口'] ZTE SNMP北向接口支持SNMP协议的V2C和V3版本，在实际开局时可根据需要通过配置的方式使系统提供不同的版本支持。\n",
      "===================================\n",
      "\n",
      "告警SNMP北向接口规范/topics/5fa72780da0543d6953c658b4b90f559.html ['子树', 'MIB', 'ZTE MIB根节点定义', '起始点', '数据类型', 'SNMP', '结点序列', '树根', '对象', '管理信息库', 'zteMIB', '对象命名树', '告警SNMP北向接口规范', '完整对象树', 'SNMP北向公共接口规范', '虚拟根', '操作信息', '对象标识', '标识符', '数据标识', '唯一标识', '告警北向', '公司', 'SNMP接口'] MIB即管理信息库（Management Information\n",
      "Base）是SNMP中管理数据的标准，在这个标准里规定了网络代理所使用的数据标识，数据类型，以及对数据的操作等信息。\n",
      "MIB中的数据标识以一种根在上的树状方式组织，称为对象命名树（Object Naming\n",
      "Tree）。树上的每个对象以从树根（虚拟根）开始到对象为止所经过结点的序列来唯一标识。如图1所示。\n",
      "图1 MIB对象命名树![](images/1619517309486.png)\n",
      "图中“zteMIB”结点可用｛.1.3.6.1.4.1.3902｝标识，在实际的环境中该结点也是公司内定义自己对象标识起始点。为图示方便，本文画告警北向SNMP接口的对象命名树时，只画出完整对象树从enterprises结点开始的子树，子树的根结点直接用结点在完整对象树中的完整标识符{.1.3.6.1.4.1}表示。\n",
      "===================================\n",
      "\n",
      "日志FTP北向接口规范/topics/1656398293046.html ['SecurityLog', 'ContainerAppLog', '文件序号', 'subtype', 'cloudName', 'ProgramLog', 'Director', '日志文件命名规则', 'Vim', 'UTC时间格式', '切割文件', 'time', '日志条目', 'num', 'ContainerLog', 'HardwareLog', 'logcategory', '日志FTP北向接口规范', 'FTP日志北向接口规范', 'OperationLog'] 命名格式为 \"logcategory_cloudName_subtype_time_num.zip\"。\n",
      "* logcategory：日志类型，取值为：OperationLog、SecurityLog、ProgramLog。\n",
      "* cloudName：如果该日志文件是操作日志或者安全日志或者TECS Director的运行日志，cloudName取值为\"\"，否则取值就是对接的云环境名称。\n",
      "* subtype：如果该日志文件是操作日志或者安全日志，subtype取值为\"\"，否则取值为enum（'Vim', 'HardwareLog', 'ContainerLog', 'ContainerAppLog'，'Director'）\n",
      "* time：日志文件的日志的结束时间，是UTC时间格式。\n",
      "* Num：日志文件的序号，如果一个周期内需要上传的日志量比较大，就会切割称多个文件，num即切割的文件序号。如果没有序号就是不需要切割。\n",
      "系统日志的考虑到日志量比较大，日志条目超过100000条就会另外生成新的文件。\n",
      "===================================\n",
      "\n",
      "端口和服务清单/topics/1622182617715.html ['kafka南向上报端口', '协议', 'TECS Director南向IP', 'MSB', '目的端口', 'EMS IP', '源端口', '客户端', '告警上报', 'TCP', '端口状态', '说明', 'Openstack管理IP', '应用端口', 'EMS', '服务端', '默认关闭', '目的IP', 'TECS Director管理IP', '源IP', '服务端/客户端', 'Openstack', '目的设备', 'TECS Director', '默认打开', 'SNMP', '端口和服务清单'] | 源设备 | 源IP | 源端口 | 目的设备 | 目的IP | 目的端口 | 协议 | 服务端/客户端 | 端口状态 | 说明 |\n",
      "| TECS Director | TECS Director管理IP | 32768-60999 | EMS | EMS IP/客户端IP | 规划 | SNMP | 客户端 | 默认打开 | 告警上报到EMS |\n",
      "| TECS Director | TECS Director南向IP | 29992 | Openstack | Openstack管理IP | ANY | TCP | 服务端 | 默认关闭 | kafka南向上报端口1，MSB进入 |\n",
      "| TECS Director | TECS Director南向IP | 29993 | Openstack | Openstack管理IP | ANY | TCP | 服务端 | 默认关闭 | kafka南向上报端口2，MSB进入 |\n",
      "===================================\n",
      "\n",
      "对接指南/topics/1655793263360.html ['对接指南', 'SNMP', '北向对接', '配置告警SNMP北向对接', '安装与调试', '告警'] 介绍如何配置告警SNMP北向对接。\n",
      "===================================\n",
      "\n",
      "对接指南/topics/1655793263360.html ['告警设置', '北向SNMP代理', '运维', '服务端地址', '端口号', '接口开通', '预览页面', '配置告警SNMP北向对接', '安装与调试', '告警管理', '开通结果', '编辑规范接口', '规范接口', '对接指南', '接口管理'] 1. 单击导航按钮![](images/1657075386447.png)，选择运维→告警管理→告警设置→接口管理，打开接口管理页面，如图1所示。\n",
      "图1 接口管理页面![](images/1655950120617.png)\n",
      "2. 单击接口开通按钮，打开接口开通-选择规范接口页面，如图2所示。\n",
      "图2 接口开通-选择规范接口页面![](images/1655950120627.png)\n",
      "3. 选择规范和接口，单击下一步按钮，打开接口开通-编辑规范接口页面，如图3所示。\n",
      "图3 接口开通-编辑规范接口![](images/1655950120737.png)\n",
      "4. 单击接口名称，在右侧配置北向SNMP代理中的“服务端地址和端口号”并配置版本。\n",
      "5. 单击下一步按钮，打开接口开通-预览页面，如图4所示。\n",
      "图4 接口开通-预览页面![](images/1655950120717.png)\n",
      "6. 单击开通按钮，等待开通完成后，在页面上显示开通结果。\n",
      "===================================\n",
      "\n",
      "对接指南/topics/1673667697110.html [' 管理员密码', ' 存储管理网络', ' S3地址', ' 管理员账号', '安装与调试', ' 存储数据面地址', ' 域名解析地址', ' 虚拟层软件', ' 双栈', '对接指南', 'Director', ' S3网络节点', ' 对象用户', ' 管理面浮动', ' 云环境', ' 集群web', ' 端对端连通', ' V6', ' 运营运维管理软件', ' DNS域名', ' 集群端口号', ' V4管理面', ' 华三分布式存储软件', ' DNS设置', ' ipv4地址', ' 集群ID', ' 对象用户AK', ' 华三存储', ' 节点信息', ' 管理端口号', ' 纳管接入', '对接华三存储', ' S3端口号', ' 对象用户SK', ' TECS'] * 完成Director、TECS节点信息的收集。\n",
      "* 完成Director运营运维管理软件、TECS虚拟层软件部署。目前商用环境主推V6，由于华三存储只支持ipv4地址，需要在Director上增加V4管理面和存储数据面地址，以便能访问华三存储管理面和S3面地址，TECS上不需要，安装之前Director需要规划V4/6双栈。\n",
      "* 完成Director上纳管接入TECS云环境，如图1所示。\n",
      "图1 成功接入云环境![](images/72f1b16ce82d492c8d127b3f60a422dd.png)\n",
      "* 完成华三分布式存储软件的安装，并且收集节点信息，参见表1。\n",
      "| 名称 | 详情 |\n",
      "| --- | --- |\n",
      "| 管理面浮动 | 188.5.123.202 |\n",
      "| 管理端口号 | 80 |\n",
      "| S3地址 | 172.23.51.17 |\n",
      "| DNS域名 | jmyd.object.com (通过域名来访问S3地址) |\n",
      "| S3端口号 | 8082 |\n",
      "| 集群web | https://188.5.123.202 |\n",
      "| 集群端口号 | 80 |\n",
      "| 集群ID | 748fcb27-fe48-4112-8a4e-bc5aff587b90 |\n",
      "| 管理员账号 | jmyd_a |\n",
      "| 管理员密码 | User@123 |\n",
      "| 对象用户 | jmydA01 |\n",
      "| 对象用户AK | VZ54AJ3Q1DCEY8P0LZWF |\n",
      "| 对象用户SK | 7Oi20GscaygGSRmsvoHKD1EE7B75Iso8uN0AyzCy |\n",
      "* 检查存储管理网络和S3网络节点。\n",
      "* 在Director上检查是否可以端对端连通华三管理面地址以及华三S3面地址。\n",
      "* 在Director上配置华三对应的域名解析地址，路径更多→系统管理→系统设置→DNS设置。\n",
      "===================================\n",
      "\n"
     ]
    }
   ],
   "execution_count": 15
  },
  {
   "metadata": {
    "ExecuteTime": {
     "end_time": "2024-06-22T08:45:20.141892Z",
     "start_time": "2024-06-22T08:45:16.271909Z"
    }
   },
   "cell_type": "code",
   "source": [
    "result = retrieval.retrieve(question, 'director')\n",
    "print(result)"
   ],
   "id": "88ffd675e78f70",
   "outputs": [
    {
     "name": "stdout",
     "output_type": "stream",
     "text": [
      "['* TECS Director发往NMS的所有告警Trap信息中都包括两个序号标识sendNotificationId（本次发送序列号）和lastSendNotificationId（上次发送序列号）。在启用单个代理且配置一个Trap目标地址的情况下，利用这两个标识NMS可以知道是否按序无遗漏的收到来自SNMP北向的告警Trap信息。其用法为，NMS收到第一条Trap信息时，保存此Trap的sendNotificationId值，不妨记为lastId，然后收到下一条Trap时比较新Trap的lastSendNotificationId值和前面记录的lastid是否一致，若一致则说明这两条Trap是按序连续发出的，此时NMS用新Trap的sendNotificationId值更新lastId值，然后重复前述检查过程，即可保证按序无遗漏接收告警信息。若检查时发现新Trap的lastSendNotificationId值和前面记录的lastid不一致，则意味着要么这两条Trap之间存在某些Trap丢失，要么发送方发出的多条Trap在接收方发生乱序(因为SNMP协议底层采用udp协议，这两种情况都可能发生)，此时NMS可以启动容错程序，比如缓存一段时间内的Trap信息看能否重整理排序或者接收到中间丢失的Trap信息，若经容错处理后还是未能收到丢失的Trap或者不能把顺序整理成功，则NMS可以通过获取当前告警接口重新和TECS Director同步。但在启用多个代理或者单个代理配置多个Trap目标地址的情况下，这两个标识只保证是递增的。\\n\\n* TECS Director重启后或在发送过程中出现异常，sendNotificationId和lastSendNotificationId会自动归零，NMS可以在一段时间后通过告警接口重新和TECS Director同步。\\n关于SNMP告警编号说明参见表1。\\n| 名称 | 说明 | OID |\\n| --- | --- | --- |\\n| alarmIndex | 统一告警北向SNMP表格中告警的标识。 | .1.3.6.1.4.1.3902.4101.1.3.1.9 |\\n| alarmId | 告警源产生告警时提供的告警唯一标识。 | .1.3.6.1.4.1.3902.4101.1.3.1.1 |\\n| aid | 在特定专业网范围内的告警唯一标识，对于TECS Director此值只是一个字符串，无其他任何含义。 | .1.3.6.1.4.1.3902.4101.1.3.1.23 |\\n| id | 告警在TECS Director网管系统中的唯一标识。 | .1.3.6.1.4.1.3902.4101.1.3.1.24 |', '| 序号 | SNMP北向告警属性名称 | TECS Director告警属性名称 | 说明 | OID |\\n| 3 | alarmEventTime | 告警表格查询时取值为告警产生时间（AlarmRaisedTime）告警Trap中的此属性取值根据事件类型不同而代表不同的TECS Director告警属性值。对于新告警上报Trap，此值为告警产生时间（AlarmRaisedTime）。对于告警恢复Trap，取值为告警恢复时间（AlarmClearedTime）。对于告警确认状态改变Trap，取值为告警确认状态改变时间（AckTime）。对于注释改变Trap，取值为注释时间（CommentTime）。对于同步后补采Trap，取值为告警上报时间（AlarmRaisedTime）。 | - | .1.3.6.1.4.1.3902.4101.1.3.1.3 |\\n| 4 | alarmEventType | 告警类型（AlarmType） | 存在编码转换，详情参见告警北向SNMP接口的告警类型和TECS 云管系统告警类型的取值对照表。 | .1.3.6.1.4.1.3902.4101.1.3.1.4 |\\n| 序号 | SNMP北向告警属性名称 | TECS Director告警属性名称 | 说明 | OID |\\n| 5 | alarmProbableCause | 标准告警码 | 由各专业网在上报的告警码模型中定义，未定义时默认值为0。 | .1.3.6.1.4.1.3902.4101.1.3.1.5 |\\n| 6 | alarmPerceivedSeverity | 告警级别（PerceivedSeverity） | TECS Director消息往Trap消息转换时，级别取值存在编码转换，详情参见告警北向SNMP接口的告警级别和TECS 云管系统告警级别取值对照表。 | .1.3.6.1.4.1.3902.4101.1.3.1.6 |\\n| 7 | alarmSpecificProblem | 告警原因 | 文本串，可能存在中文内容。 | .1.3.6.1.4.1.3902.4101.1.3.1.7 |\\n| 8 | alarmAdditionalText | 告警附加信息（AdditionalText） | 文本串，可能存在中文内容。 | .1.3.6.1.4.1.3902.4101.1.3.1.8 |\\n| 序号 | SNMP北向告警属性名称 | TECS Director告警属性名称 | 说明 | OID |\\n| 9 | alarmIndex | 告警索引号，是告警北向模块为每一条当前告警分派的唯一整形编号。 | 索引号是循环分配使用，不能保证每条告警分配的索引号均是递增。 | .1.3.6.1.4.1.3902.4101.1.3.1.9 |\\n| 10 | alarmComment | 告警注释（CommentText） | 告警表格操作时，可以查看，也可以设置新值。 | .1.3.6.1.4.1.3902.4101.1.3.1.10 |\\n| 11 | alarmCode | 厂商告警码编号，该码值和alarmSystemType一起构成一个TECS Director中唯一的告警码。 | 参见告警北向SNMP接口的告警级别和TECS 云管系统告警级别取值对照表。 | .1.3.6.1.4.1.3902.4101.1.3.1.11 |\\n| 12 | alarmNetype | 网元类型（Moc） | - | .1.3.6.1.4.1.3902.4101.1.3.1.12 |', '* 已经获取PaaS平台登录用户名、密码。\\n* 已经获取管登录TECS Director系统的管理员账户。\\n配置PaaS SNMP北向\\n1. 在浏览器地址输入栏中，输入PaaS平台环境登录地址（https://ip:1043/portaladmin），单击回车键。\\n2. 输入用户名、密码，单击登录按钮，如图1所示。\\n图1 OpenPalette页面![](images/snap405.png)\\n3. 在OpenPalette系统，选择系统设置→告警管理，打开告警管理页面。\\n4. 在告警管理页面，切换到SNMP北向地址页签，如图2所示。\\n图2 SNMP北向地址![](images/snap406.png)\\n5. 单击添加SNMP北向地址按钮，打开添加SNMP北向地址页面，如图3所示。\\n图3 添加SNMP北向地址页面![](images/snap407.png)\\n6. 配置添加SNMP北向地址参数，参数说明参见表1。\\n| 参数 | 说明 |\\n| --- | --- |\\n| IP地址 | 填写TECS Director浮动地址 |\\n| 端口 | 填写40002 |\\n| SNMP协议类型 | 选择SNMP v3版本 |\\n| 用户名 | 用户名需要与TECS Director的系统管理→南向设置→告警SNMPV3中设置的用户名一致 |\\n| 安全级别 | 选择认证&加密 |\\n| 认证模式 | 需要与TECS Director的系统管理→南向设置→告警SNMPV3设置中认证方式一致，建议填写MD5 |\\n| 认证密码 | 填写认证密码，需要与TECS Director的系统管理→南向设置→告警SNMPV3中设置一致。密码长度至少8位，必须包含大写字母、小写字母、数字和特殊符号中的三种 |\\n| 加密模式 | 需要与TECS Director的系统管理→南向设置→告警SNMPV3设置中加密方式一致，建议填写DES |\\n| 加密密码 | 填写加密密码，需要与TECS Director的系统管理→南向设置→告警SNMPV3中设置一致。密码长度至少8位，必须包含大写字母、小写字母、数字和特殊符号中的三种 |\\n7. 单击添加按钮。\\n配置云管系统 SNMP南向\\n1. 在浏览器地址输入栏中，输入TECS Director环境登录地址（https://ip/uportal/），单击回车键。\\n2. 输入用户名、密码，单击登录按钮。\\n\\n3. 在TECS Director系统首页，单击导航菜单![](images/1603248508756.png)，选择系统管理→系统设置→南向设置，打开南向设置页面。\\n4. 在南向设置页面，切换到告警SNMP V3设置页签，如图4所示。\\n图4 告警SNMP V3设置页签![](images/snap410.png)\\n5. 单击修改按钮，设置参数，完成南向设置接收来自PaaS告警。\\n| 参数 | 说明 |\\n| --- | --- |\\n| SNMP协议类型 | 填写V3 |\\n| 用户名 | 用户名需要与PaaS的系统管理→告警管理→SNMP北向地址中用户名一致 |\\n| 安全级别 | 选择认证&加密 |\\n| 认证模式 | 需要与PaaS的系统管理→告警管理→SNMP北向地址中认证方式一致 |\\n| 认证密码 | 填写认证密码，需要与PaaS的系统管理→告警管理→SNMP北向中设置一致。密码长度至少8位，必须包含大写字母、小写字母、数字和特殊符号中的三种 |\\n| 加密模式 | 需要与PaaS的系统管理→告警管理→SNMP北向地址中加密方式一致 |\\n| 加密密码 | 填写加密密码，需要与PaaS的系统管理→告警管理→SNMP北向中设置一致。密码长度至少8位，必须包含大写字母、小写字母、数字和特殊符号中的三种 |\\n6. 单击确定按钮。\\n启用QoS告警\\n1. 在OpenPalette系统，选择系统设置→告警管理，打开告警管理页面。\\n2. 在告警管理页面，切换到QoS配置页签，如图5所示。\\n图5 QoS配置页签![](images/snap411.png)\\n3. 依次单击节点、磁盘分区、组件实例，参见表3建议设置QoS告警。\\n| 参数 | 说明 |\\n| --- | --- |\\n| SNMP协议类型 | 填写V3 |\\n| 用户名 | 用户名需要与PaaS的系统管理→告警管理→SNMP北向地址中用户名一致 |\\n| 安全级别 | 选择认证&加密 |\\n| 认证模式 | 需要与PaaS的系统管理→告警管理→SNMP北向地址中认证方式一致 |\\n| 认证密码 | 填写认证密码，需要与PaaS的系统管理→告警管理→SNMP北向中设置一致。密码长度至少8位，必须包含大写字母、小写字母、数字和特殊符号中的三种 |\\n| 加密模式 | 需要与PaaS的系统管理→告警管理→SNMP北向地址中加密方式一致 |\\n| 加密密码 | 填写加密密码，需要与PaaS的系统管理→告警管理→SNMP北向中设置一致。密码长度至少8位，必须包含大写字母、小写字母、数字和特殊符号中的三种 |', '| 序号 | SNMP北向告警属性名称 | TECS Director告警属性名称 | 说明 | OID |\\n| 21 | timeZoneOffset | 上报时区偏移量（TimeZoneOffset ） | 默认值为0，通过上报的时区偏移量和夏令时偏移量可以计算时间偏移。 | .1.3.6.1.4.1.3902.4101.1.3.1.21 |\\n| 22 | dSTSaving | 告警上报时间夏令时偏移量（DSTSaving） | 默认值为0，通过上报的时区偏移量和夏令时偏移量可以计算时间偏移。 | .1.3.6.1.4.1.3902.4101.1.3.1.22 |\\n| 23 | aid | 告警标识（Aid） | 特定范围内的告警唯一标识，只是一个字符串，无其他任何含义。 | .1.3.6.1.4.1.3902.4101.1.3.1.23 |\\n| 24 | id | 告警编号（ID） | 告警的唯一数字编号，告警编号唯一标识同一告警。 | .1.3.6.1.4.1.3902.4101.1.3.1.24 |\\n| 序号 | SNMP北向告警属性名称 | TECS Director告警属性名称 | 说明 | OID |\\n| 25 | alarmOtherInfo | 告警自定义属性 | - | .1.3.6.1.4.1.3902.4101.1.3.1.25 |\\n| 26 | alarmMocObjectInstance | 网元名称 | - | .1.3.6.1.4.1.3902.4101.1.3.1.26 |\\n| 序号 | SNMP北向告警属性名称 | TECS Director告警属性名称 | 说明 | OID |\\n| 13 | rowStatus | 告警表格行状态，TECS Director中无此属性 | 查告警表时取值只有：1－活跃；对指定告警设置该属性6－删除，代表清除指定告警。 | .1.3.6.1.4.1.3902.4101.1.3.1.13 |\\n| 14 | alarmCodeName | 告警码名称（ProbableCause.Name） | - | .1.3.6.1.4.1.3902.4101.1.3.1.14 |\\n| 15 | alarmManagedObjectInstanceName | 告警位置名称（网元或网元内定位的名称） | 当位置属性只包括网元时，取值为网元名称；当位置属性包括网元和网元以下位置时时，取值为\"网元名称,位置名称\"。 | .1.3.6.1.4.1.3902.4101.1.3.1.15 |\\n| 16 | alarmSystemType | 告警资源类型 | - | .1.3.6.1.4.1.3902.4101.1.3.1.16 |\\n| 序号 | SNMP北向告警属性名称 | TECS Director告警属性名称 | 说明 | OID |\\n| 17 | alarmNeIP | 告警网元IP （NeIp） | 支持两个IP；当包含IPV6时仅上报第一个IP。 | .1.3.6.1.4.1.3902.4101.1.3.1.17 |\\n| 18 | alarmAck | 确认状态（AckState） | 1表示确认，2表示未确认。 | .1.3.6.1.4.1.3902.4101.1.3.1.18 |\\n| 19 | cleiCode | 网元设备资产号（TECS Director上用自定义属性实现，默认不显示，应用方可根据需要经二次开发后显示） | 为了兼容而保留，值始终为空。 | .1.3.6.1.4.1.3902.4101.1.3.1.19 |\\n| 20 | timeZoneID | 告警上报时区ID（TimeZoneID） | - | .1.3.6.1.4.1.3902.4101.1.3.1.20 |']\n"
     ]
    }
   ],
   "execution_count": 9
  },
  {
   "metadata": {
    "ExecuteTime": {
     "end_time": "2024-06-22T08:53:22.478864Z",
     "start_time": "2024-06-22T08:53:22.423850Z"
    }
   },
   "cell_type": "code",
   "source": [
    "a = es.search_by_content('南向告警', 'director')['hits']['hits']\n",
    "contents = [hit['_source'] for hit in a]\n",
    "for content in contents:\n",
    "    print(content.get('url'), content['keywords'], content['content'])\n",
    "    print('===================================\\n')"
   ],
   "id": "51e8b1b5461d3849",
   "outputs": [
    {
     "name": "stdout",
     "output_type": "stream",
     "text": [
      "配置指南/topics/52-配置南向参数.html ['安装与调试', '配置指南', '系统管理', '配置南向参数'] 本节介绍设置南向的资源，性能及告警通道相关参数的步骤。\n",
      "===================================\n",
      "\n",
      "对接指南/topics/配置Provider SNMP参数.html ['安装与调试', '对接指南', '对接TECS OpenStack', 'TECS OpenStack告警上报到TECS 云管系统配置说明', '配置TECS OpenStack SNMP参数'] 本任务介绍了如何配置TECS OpenStack上报告警的地址。上报告警的地址是TECS Director地址，对应TECS\n",
      "Director南向网络平面地址。\n",
      "===================================\n",
      "\n",
      "对接指南/topics/1603186489658.html ['告警', 'SNMP Trap', 'QoS告警', '预定义阈值', '呈现', 'TECS Director产品SNMP南向配置', 'PaaS平台告警北向上报配置', '安装与调试', '监控', '对接PaaS的QoS告警', 'PaaS平台', 'TECS Director', '对接指南'] TECS Director产品的QoS告警是由PaaS平台进行监控。当PaaS平台根据预定义阈值触发告警时，会通过SNMP Trap将告警发送给TECS\n",
      "Director进行呈现，因此需要完成PaaS平台告警北向上报配置以及TECS Director产品SNMP南向配置，从而实现上述QoS告警呈现。\n",
      "===================================\n",
      "\n",
      "端口和服务清单/topics/1622182617715.html ['kafka南向上报端口', '协议', 'TECS Director南向IP', 'MSB', '目的端口', 'EMS IP', '源端口', '客户端', '告警上报', 'TCP', '端口状态', '说明', 'Openstack管理IP', '应用端口', 'EMS', '服务端', '默认关闭', '目的IP', 'TECS Director管理IP', '源IP', '服务端/客户端', 'Openstack', '目的设备', 'TECS Director', '默认打开', 'SNMP', '端口和服务清单'] | 源设备 | 源IP | 源端口 | 目的设备 | 目的IP | 目的端口 | 协议 | 服务端/客户端 | 端口状态 | 说明 |\n",
      "| TECS Director | TECS Director管理IP | 32768-60999 | EMS | EMS IP/客户端IP | 规划 | SNMP | 客户端 | 默认打开 | 告警上报到EMS |\n",
      "| TECS Director | TECS Director南向IP | 29992 | Openstack | Openstack管理IP | ANY | TCP | 服务端 | 默认关闭 | kafka南向上报端口1，MSB进入 |\n",
      "| TECS Director | TECS Director南向IP | 29993 | Openstack | Openstack管理IP | ANY | TCP | 服务端 | 默认关闭 | kafka南向上报端口2，MSB进入 |\n",
      "===================================\n",
      "\n",
      "端口和服务清单/topics/1622182617715.html ['协议', 'MSB', 'SSL', 'nid-sk', '目的端口', '源端口', '客户端', 'ANY', '告警上报', 'TCP', '端口状态', '说明', '管理IP', 'SNMPv2', '应用端口', '服务端', 'kafka', '目的IP', '南向IP', 'UDP', '源IP', 'Openstack', '目的设备', '资源池', '网络探测', 'TECS Director', 'Provider', '端口和服务清单'] | 源设备 | 源IP | 源端口 | 目的设备 | 目的IP | 目的端口 | 协议 | 服务端/客户端 | 端口状态 | 说明 |\n",
      "| TECS Director | TECS Director南向IP | 29997 | Openstack | Openstack管理IP | ANY | TCP | 服务端 | 默认打开 | kafka南向上报SSL端口3，MSB进入 |\n",
      "| TECS Director | TECS Director南向IP | 29805 | Openstack | Openstack管理IP | ANY | TCP | 服务端 | 默认打开 | nid-sk对外资源池保留端口，网络探测使用 |\n",
      "| TECS Director | TECS Director南向IP | 40001 | Openstack | Openstack管理IP | ANY | UDP | 服务端 | 默认关闭 | Provider告警上报(SNMPv2)（MSB进入） |\n",
      "===================================\n",
      "\n",
      "故障处理/topics/1611043868128.html ['故障管理', '故障处理', 'TECS Director故障处理', '常规故障处理', '无法查询云环境告警'] 1. 使用admin账户登录TECS Director管理门户网站。\n",
      "2. 将鼠标移动至上方的![](images/1611046709143.png)按钮处，出现菜单栏页面。单击菜单栏页面中的更多→系统管理→系统设置按钮，打开北向设置页面。\n",
      "3. 在左侧目录树单击系统设置→南向设置，打开南向设置页面。\n",
      "4. 单击告警SNMP V3设置页签，查看配置参数。检查该参数是否与云环境的告警北向设置界面配置一致，包括IP、端口号、用户名、密码等。云环境的告警北向设置的查询步骤具体参见《ZTE TECS Openstack 监控中心》中的“4.1.3 北向设置”。\n",
      "* 是→步骤6\n",
      "* 否→步骤5\n",
      "5. 正确配置告警SNMP V3设置页面的参数，与云环境的告警北向设置界面配置一致。检查云环境产生的告警是否可以在TECS Director管理门户网站的告警页面查询。\n",
      "* 是→结束\n",
      "* 否→步骤6\n",
      "\n",
      "===================================\n",
      "\n",
      "对接指南/topics/1603186489658.html ['MD5', 'SNMP v3', 'SNMP北向', 'DES', '安装与调试', 'SNMP北向地址', '告警管理', '认证&加密', '对接PaaS的QoS告警', 'PaaS平台', 'TECS Director', '对接指南', 'OpenPalette'] 配置PaaS SNMP北向\n",
      "1. 在浏览器地址输入栏中，输入PaaS平台环境登录地址（https://ip:1043/portaladmin），单击回车键。\n",
      "2. 输入用户名、密码，单击登录按钮，如图1所示。\n",
      "图1 OpenPalette页面![](images/snap405.png)\n",
      "3. 在OpenPalette系统，选择系统设置→告警管理，打开告警管理页面。\n",
      "4. 在告警管理页面，切换到SNMP北向地址页签，如图2所示。\n",
      "图2 SNMP北向地址![](images/snap406.png)\n",
      "5. 单击添加SNMP北向地址按钮，打开添加SNMP北向地址页面，如图3所示。\n",
      "图3 添加SNMP北向地址页面![](images/snap407.png)\n",
      "6. 配置添加SNMP北向地址参数，参数说明参见表1。\n",
      "| 参数 | 说明 |\n",
      "| --- | --- |\n",
      "| IP地址 | 填写TECS Director浮动地址 |\n",
      "| 端口 | 填写40002 |\n",
      "| SNMP协议类型 | 选择SNMP v3版本 |\n",
      "| 用户名 | 用户名需要与TECS Director的系统管理→南向设置→告警SNMPV3中设置的用户名一致 |\n",
      "| 安全级别 | 选择认证&加密 |\n",
      "| 认证模式 | 需要与TECS Director的系统管理→南向设置→告警SNMPV3设置中认证方式一致，建议填写MD5 |\n",
      "| 认证密码 | 填写认证密码，需要与TECS Director的系统管理→南向设置→告警SNMPV3中设置一致。密码长度至少8位，必须包含大写字母、小写字母、数字和特殊符号中的三种 |\n",
      "| 加密模式 | 需要与TECS Director的系统管理→南向设置→告警SNMPV3设置中加密方式一致，建议填写DES |\n",
      "| 加密密码 | 填写加密密码，需要与TECS Director的系统管理→南向设置→告警SNMPV3中设置一致。密码长度至少8位，必须包含大写字母、小写字母、数字和特殊符号中的三种 |\n",
      "7. 单击添加按钮。\n",
      "配置云管系统 SNMP南向\n",
      "1. 在浏览器地址输入栏中，输入TECS Director环境登录地址（https://ip/uportal/），单击回车键。\n",
      "2. 输入用户名、密码，单击登录按钮。\n",
      "\n",
      "===================================\n",
      "\n",
      "对接指南/topics/1603186489658.html ['QoS配置', 'QoS告警', '加密模式', '用户名', '安全级别', '认证密码', '安装与调试', '加密密码', '认证模式', '告警管理', 'PaaS告警', 'OpenPalette系统', 'TECS Director系统', '对接PaaS的QoS告警', '告警SNMP V3设置', 'SNMP协议类型', '对接指南', '南向设置'] 3. 在TECS Director系统首页，单击导航菜单![](images/1603248508756.png)，选择系统管理→系统设置→南向设置，打开南向设置页面。\n",
      "4. 在南向设置页面，切换到告警SNMP V3设置页签，如图4所示。\n",
      "图4 告警SNMP V3设置页签![](images/snap410.png)\n",
      "5. 单击修改按钮，设置参数，完成南向设置接收来自PaaS告警。\n",
      "| 参数 | 说明 |\n",
      "| --- | --- |\n",
      "| SNMP协议类型 | 填写V3 |\n",
      "| 用户名 | 用户名需要与PaaS的系统管理→告警管理→SNMP北向地址中用户名一致 |\n",
      "| 安全级别 | 选择认证&加密 |\n",
      "| 认证模式 | 需要与PaaS的系统管理→告警管理→SNMP北向地址中认证方式一致 |\n",
      "| 认证密码 | 填写认证密码，需要与PaaS的系统管理→告警管理→SNMP北向中设置一致。密码长度至少8位，必须包含大写字母、小写字母、数字和特殊符号中的三种 |\n",
      "| 加密模式 | 需要与PaaS的系统管理→告警管理→SNMP北向地址中加密方式一致 |\n",
      "| 加密密码 | 填写加密密码，需要与PaaS的系统管理→告警管理→SNMP北向中设置一致。密码长度至少8位，必须包含大写字母、小写字母、数字和特殊符号中的三种 |\n",
      "6. 单击确定按钮。\n",
      "启用QoS告警\n",
      "1. 在OpenPalette系统，选择系统设置→告警管理，打开告警管理页面。\n",
      "2. 在告警管理页面，切换到QoS配置页签，如图5所示。\n",
      "图5 QoS配置页签![](images/snap411.png)\n",
      "3. 依次单击节点、磁盘分区、组件实例，参见表3建议设置QoS告警。\n",
      "| 参数 | 说明 |\n",
      "| --- | --- |\n",
      "| SNMP协议类型 | 填写V3 |\n",
      "| 用户名 | 用户名需要与PaaS的系统管理→告警管理→SNMP北向地址中用户名一致 |\n",
      "| 安全级别 | 选择认证&加密 |\n",
      "| 认证模式 | 需要与PaaS的系统管理→告警管理→SNMP北向地址中认证方式一致 |\n",
      "| 认证密码 | 填写认证密码，需要与PaaS的系统管理→告警管理→SNMP北向中设置一致。密码长度至少8位，必须包含大写字母、小写字母、数字和特殊符号中的三种 |\n",
      "| 加密模式 | 需要与PaaS的系统管理→告警管理→SNMP北向地址中加密方式一致 |\n",
      "| 加密密码 | 填写加密密码，需要与PaaS的系统管理→告警管理→SNMP北向中设置一致。密码长度至少8位，必须包含大写字母、小写字母、数字和特殊符号中的三种 |\n",
      "===================================\n",
      "\n",
      "对接指南/topics/1565834445321.html ['安装与调试', '对接指南', '参考', '端口开放列表'] | 端口 | 协议 | 归属服务 | 发布方法 | 说明 | 网络平面 |\n",
      "| 40351-40400 | TCP | 预留 | 预留 | 预留 |\n",
      "| 29672~29800 | TCP |  | 调用MSB接口发布 | TECS Director纳管Uniview |\n",
      "| 40001 | UDP/SNMP（不安全） | FM | 应用服务预留端口 | Provider告警上报(SNMP)（从MSB入） | 南向 |\n",
      "| 40002 | UDP | FM | 应用服务预留端口 | Provider告警上报(SNMPv3)（从MSB入） |\n",
      "| 35000 | TCP | swr | 应用服务预留端口 | 软件仓库Registry对南向openpallte的数据流 |\n",
      "| 29805 | TCP | nid | 应用服务预留端口 | nid-sk对外资源池保留端口，网络探测使用 |\n",
      "| 29992 | TCP/无SSL（不安全） | kafka | 应用服务预留端口 | kafka1南向上报，切PAAS平台后均从MSB入 |\n",
      "===================================\n",
      "\n",
      "对接指南/topics/1610611896699.html ['安装与调试', '对接指南', '对接TCF双核云环境', '对接K+O云环境'] 4. 在TECS Director系统，单击导航菜单![](images/1610611914374.png)，选择系统设置→南向设置，打开南向设置页面。\n",
      "5. 在告警SNMP V3设置页签，如图6所示，设置参数与K+O云环境中保持一致。\n",
      "说明：\n",
      "设置用户名与K+O云环境中的设置的一致，选择认证&加密，认证密码和加密密码与K+O云环境的一致，默认为Admin@123。\n",
      "图6 告警SNMP V3设置![](images/1610611914958.png)\n",
      "6. 单击确定按钮， TECS Director与K+O云环境对接成功。\n",
      "===================================\n",
      "\n"
     ]
    }
   ],
   "execution_count": 20
  },
  {
   "metadata": {},
   "cell_type": "markdown",
   "source": "## 通过llm遍历文档树去找文件",
   "id": "f340309246d1794c"
  },
  {
   "metadata": {
    "ExecuteTime": {
     "end_time": "2024-06-22T10:45:37.510382Z",
     "start_time": "2024-06-22T10:45:37.501101Z"
    }
   },
   "cell_type": "code",
   "source": [
    "from utils import node_util\n",
    "from api import glm\n",
    "\n",
    "prompt_tmp = \"\"\"\n",
    "你是一名技术专家，我有一些运维材料文档，文档名称如下：\n",
    "\n",
    "{names}\n",
    "\n",
    "我现在有一个问题：{question}\n",
    "\n",
    "你觉得它最有可能在哪些文档下？请直接输出文档名称，若有多个，请用英文逗号隔开。\n",
    "\n",
    "注意：\n",
    "1. 如果你觉得这些文档里面都没有答案，或者你不确定，都直接返回无关两个字就行\n",
    "2. 只返回逗号隔开的文档名称，禁止输出任何其他文字。\n",
    "输出格式如下：\n",
    "\n",
    "{{doc1}},{{doc2}},{{doc3}}\n",
    "其中大括号里面表示的是文档名称\n",
    "\"\"\"\n",
    "\n",
    "def filter(nodes):\n",
    "    names = [node.name for node in nodes]\n",
    "    print(f\"输入: {names}\")\n",
    "    prompt = prompt_tmp.format(names=names, question=question)\n",
    "    result = glm.chat(prompt).replace('\\'','')\n",
    "    print(f\"输出: {result}\")\n",
    "    arr = [item for item in result.split(',') if item != '无关']\n",
    "    last = [node for node in nodes if node.name in arr]\n",
    "    return last\n",
    "\n",
    "\n",
    "def process_nodes(nodes):\n",
    "    result = []\n",
    "    while nodes:\n",
    "        filtered_nodes = filter(nodes)\n",
    "        result.extend(filtered_nodes)\n",
    "        all_children = []\n",
    "        for node in filtered_nodes:\n",
    "            all_children.extend(node.children)\n",
    "        if not all_children:\n",
    "            break\n",
    "        nodes = all_children\n",
    "    return result\n"
   ],
   "id": "fdd79ed88565aa49",
   "outputs": [],
   "execution_count": 71
  },
  {
   "metadata": {
    "ExecuteTime": {
     "end_time": "2024-06-22T10:45:44.822681Z",
     "start_time": "2024-06-22T10:45:37.650189Z"
    }
   },
   "cell_type": "code",
   "source": [
    "root_path = 'D:\\\\Workspace\\\\aiops2024-challenge-dataset\\\\director\\\\'\n",
    "root_nodes = node_util.parse_xml(root_path + 'nodetree.xml')\n",
    "result_nodes = process_nodes(root_nodes)\n",
    "# for n in result_nodes:\n",
    "#     print(n.name)"
   ],
   "id": "16c69ed80dda2d48",
   "outputs": [
    {
     "name": "stdout",
     "output_type": "stream",
     "text": [
      "输入: ['文档包简介', '描述', '安装与调试', '操作与维护', '故障管理', '参考', '性能FTP北向接口规范', '告警SNMP北向接口规范', '日志FTP北向接口规范', 'License申请操作指南', '端口和服务清单', '缩略语']\n",
      "输出: 故障管理,告警SNMP北向接口规范\n",
      "输入: ['故障处理', '告警与通知处理', '范围', '术语和缩略语', '接口概述', 'SNMP北向公共接口规范', 'SNMP北向告警接口规范', '参考']\n",
      "输出: SNMP北向公共接口规范,SNMP北向告警接口规范\n",
      "输入: ['SNMP版本支持', 'ZTE MIB根节点定义', '告警北向SNMP接口的MIB说明', '告警北向SNMP接口的功能', '告警北向SNMP接口的业务规约']\n",
      "输出: 告警北向SNMP接口的MIB说明,{doc2}\n",
      "\n",
      "由于问题涉及的是接收南向告警的SNMP端口号，这通常与接口配置和规约有关，因此我认为最相关的文档可能是描述SNMP接口MIB的文档。然而，由于提供的文档列表中没有直接提到“南向告警SNMP端口号”，我选择了与SNMP接口直接相关的文档。其他文档可能也包含相关信息，但没有足够的信息来确定它们是否包含端口号的具体细节。\n",
      "输入: ['alarmIRP部分', 'csIRP部分']\n",
      "输出: alarmIRP部分\n",
      "\n",
      "输出格式：\n",
      "\n",
      "{alarmIRP部分}\n"
     ]
    }
   ],
   "execution_count": 72
  },
  {
   "metadata": {
    "ExecuteTime": {
     "end_time": "2024-06-22T10:21:17.763663Z",
     "start_time": "2024-06-22T10:21:17.722664Z"
    }
   },
   "cell_type": "code",
   "source": [
    "from pre import html_processor\n",
    "\n",
    "# 按照url去读取文件\n",
    "def read(name, url):\n",
    "    dst_url = root_path + '\\\\documents\\\\' + url\n",
    "\n",
    "    content = html_processor.html_to_markdown(dst_url)\n",
    "    \n",
    "    if len(content) > 1000:\n",
    "        print(name)\n",
    "    else:\n",
    "        print(content)\n",
    "        print('\\n\\n')\n",
    "for node in result_nodes:\n",
    "    read(node.name, node.url)"
   ],
   "id": "56432a672abf92bd",
   "outputs": [
    {
     "name": "stdout",
     "output_type": "stream",
     "text": [
      "# 故障管理\n",
      "子主题：\n",
      "  * 故障处理\n",
      "  * 告警与通知处理\n",
      "\n",
      "\n",
      "\n",
      "# 告警SNMP北向接口规范\n",
      "子主题：\n",
      "  * 范围\n",
      "  * 术语和缩略语\n",
      "  * 接口概述\n",
      "  * SNMP北向公共接口规范\n",
      "  * SNMP北向告警接口规范\n",
      "  * 参考\n",
      "\n",
      "\n",
      "\n",
      "# SNMP北向公共接口规范\n",
      "子主题：\n",
      "  * SNMP版本支持\n",
      "  * ZTE MIB根节点定义\n",
      "\n",
      "\n",
      "\n",
      "# SNMP北向告警接口规范\n",
      "子主题：\n",
      "  * 告警北向SNMP接口的MIB说明\n",
      "  * 告警北向SNMP接口的功能\n",
      "  * 告警北向SNMP接口的业务规约\n",
      "\n",
      "\n",
      "\n",
      "# 告警北向SNMP接口的MIB说明\n",
      "子主题：\n",
      "  * alarmIRP部分\n",
      "  * csIRP部分\n",
      "\n",
      "\n",
      "\n",
      "# 告警北向SNMP接口的业务规约\n",
      "子主题：\n",
      "  * 关于字符编码\n",
      "  * 关于Set操作返回值说明\n",
      "  * 关于SNMP Trap信息的解析\n",
      "  * 关于如何保持TECS 云管系统和NMS告警数据一致\n",
      "  * 通知MIB文件说明\n",
      "  * 通知上报功能说明\n",
      "\n",
      "\n",
      "\n",
      "# 关于SNMP Trap信息的解析\n",
      "SNMP Trap信息的解析只能参照mib定义，使用OID去获取各变量取值。而不能忽略变量OID直接按照固定的变量顺序去取值。\n",
      "\n",
      "\n",
      "\n",
      "# 通知MIB文件说明\n",
      "通知MIB定义在zxcomc-snmp-notificationirp-\n",
      "mib-v1.0.txt文件中，该MIB文件在alarmIRP部分新增notificationIRP对象，该MIB库主要定义统一北向接口中和通知属性相关的对象，功能如下：\n",
      "  * ntsAttribute{ .1.3.6.1.4.1.3902.4101.10.1}分支，其下属性为通知中各字段的属性标识。\n",
      "  * ntsNotifications{.1.3.6.1.4.1.3902.4101.10.2}分支，其下属性用于定义通知Trap标识，目前有通知上报Trap(ntsNotificationNew)。\n",
      "  * ntsNotificationFilter{.1.3.6.1.4.1.3902.4101.10.3}分支，用于通知Trap消息的上报过滤条件，只有满足条件的通知消息才被发送到上级。\n",
      "\n",
      "\n",
      "\n"
     ]
    }
   ],
   "execution_count": 64
  },
  {
   "metadata": {},
   "cell_type": "code",
   "outputs": [],
   "execution_count": null,
   "source": "",
   "id": "726c1ab3d6966a55"
  }
 ],
 "metadata": {
  "kernelspec": {
   "display_name": "Python 3 (ipykernel)",
   "language": "python",
   "name": "python3"
  },
  "language_info": {
   "codemirror_mode": {
    "name": "ipython",
    "version": 3
   },
   "file_extension": ".py",
   "mimetype": "text/x-python",
   "name": "python",
   "nbconvert_exporter": "python",
   "pygments_lexer": "ipython3",
   "version": "3.9.19"
  }
 },
 "nbformat": 4,
 "nbformat_minor": 5
}
