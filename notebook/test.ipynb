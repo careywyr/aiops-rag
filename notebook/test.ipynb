{
 "cells": [
  {
   "cell_type": "code",
   "id": "e2d1233d-03e6-48c0-b42d-93750730454c",
   "metadata": {
    "ExecuteTime": {
     "end_time": "2024-06-22T08:44:58.509983Z",
     "start_time": "2024-06-22T08:44:58.496888Z"
    }
   },
   "source": [
    "import os\n",
    "import sys\n",
    "\n",
    "# 获取当前工作目录\n",
    "current_dir = os.getcwd()\n",
    "# 设置项目根目录\n",
    "project_root = os.path.abspath(os.path.join(current_dir, \"..\"))\n",
    "# 将项目根目录添加到sys.path\n",
    "sys.path.insert(0, project_root)"
   ],
   "execution_count": 5,
   "outputs": []
  },
  {
   "cell_type": "code",
   "id": "initial_id",
   "metadata": {
    "ExecuteTime": {
     "end_time": "2024-06-22T08:45:02.355826Z",
     "start_time": "2024-06-22T08:44:58.868472Z"
    }
   },
   "source": [
    "\n",
    "from db import es\n",
    "from api import deepseek\n",
    "from agent import retrieval"
   ],
   "execution_count": 6,
   "outputs": []
  },
  {
   "metadata": {},
   "cell_type": "code",
   "execution_count": null,
   "source": "question = 'Director接收南向告警的snmp端口号是多少'",
   "id": "512cf67b1235841",
   "outputs": []
  },
  {
   "cell_type": "code",
   "id": "a1b8e282c398d050",
   "metadata": {
    "ExecuteTime": {
     "end_time": "2024-06-22T08:50:53.535858Z",
     "start_time": "2024-06-22T08:50:52.228046Z"
    }
   },
   "source": [
    "kws = deepseek.extract_keywords(question)\n",
    "print(kws)\n",
    "result = es.search_by_root_and_keywords('director', kws)['hits']['hits']\n",
    "contents = [hit['_source'] for hit in result]\n",
    "for content in contents:\n",
    "    print(content['url'], content['keywords'], content['content'])\n",
    "    print('===================================\\n')"
   ],
   "execution_count": 15,
   "outputs": []
  },
  {
   "metadata": {
    "ExecuteTime": {
     "end_time": "2024-06-22T08:45:20.141892Z",
     "start_time": "2024-06-22T08:45:16.271909Z"
    }
   },
   "cell_type": "code",
   "source": [
    "result = retrieval.retrieve(question, 'director')\n",
    "print(result)"
   ],
   "id": "88ffd675e78f70",
   "execution_count": 9,
   "outputs": []
  },
  {
   "metadata": {
    "ExecuteTime": {
     "end_time": "2024-06-22T08:53:22.478864Z",
     "start_time": "2024-06-22T08:53:22.423850Z"
    }
   },
   "cell_type": "code",
   "source": [
    "a = es.search_by_content('南向告警', 'director')['hits']['hits']\n",
    "contents = [hit['_source'] for hit in a]\n",
    "for content in contents:\n",
    "    print(content.get('url'), content['keywords'], content['content'])\n",
    "    print('===================================\\n')"
   ],
   "id": "51e8b1b5461d3849",
   "execution_count": 20,
   "outputs": []
  },
  {
   "metadata": {},
   "cell_type": "markdown",
   "source": "## 通过llm遍历文档树去找文件",
   "id": "f340309246d1794c"
  },
  {
   "metadata": {
    "ExecuteTime": {
     "end_time": "2024-06-22T10:45:37.510382Z",
     "start_time": "2024-06-22T10:45:37.501101Z"
    }
   },
   "cell_type": "code",
   "source": [
    "from utils import node_util\n",
    "from api import glm\n",
    "\n",
    "prompt_tmp = \"\"\"\n",
    "你是一名技术专家，我有一些运维材料文档，文档名称如下：\n",
    "\n",
    "{names}\n",
    "\n",
    "我现在有一个问题：{question}\n",
    "\n",
    "你觉得它最有可能在哪些文档下？请直接输出文档名称，若有多个，请用英文逗号隔开。\n",
    "\n",
    "注意：\n",
    "1. 如果你觉得这些文档里面都没有答案，或者你不确定，都直接返回无关两个字就行\n",
    "2. 只返回逗号隔开的文档名称，禁止输出任何其他文字。\n",
    "输出格式如下：\n",
    "\n",
    "{{doc1}},{{doc2}},{{doc3}}\n",
    "其中大括号里面表示的是文档名称\n",
    "\"\"\"\n",
    "\n",
    "def filter(nodes):\n",
    "    names = [node.name for node in nodes]\n",
    "    print(f\"输入: {names}\")\n",
    "    prompt = prompt_tmp.format(names=names, question=question)\n",
    "    result = glm.chat(prompt).replace('\\'','')\n",
    "    print(f\"输出: {result}\")\n",
    "    arr = [item for item in result.split(',') if item != '无关']\n",
    "    last = [node for node in nodes if node.name in arr]\n",
    "    return last\n",
    "\n",
    "\n",
    "def process_nodes(nodes):\n",
    "    result = []\n",
    "    while nodes:\n",
    "        filtered_nodes = filter(nodes)\n",
    "        result.extend(filtered_nodes)\n",
    "        all_children = []\n",
    "        for node in filtered_nodes:\n",
    "            all_children.extend(node.children)\n",
    "        if not all_children:\n",
    "            break\n",
    "        nodes = all_children\n",
    "    return result\n"
   ],
   "id": "fdd79ed88565aa49",
   "execution_count": 71,
   "outputs": []
  },
  {
   "metadata": {
    "ExecuteTime": {
     "end_time": "2024-06-22T10:45:44.822681Z",
     "start_time": "2024-06-22T10:45:37.650189Z"
    }
   },
   "cell_type": "code",
   "source": [
    "root_path = 'D:\\\\Workspace\\\\aiops2024-challenge-dataset\\\\director\\\\'\n",
    "root_nodes = node_util.parse_xml(root_path + 'nodetree.xml')\n",
    "result_nodes = process_nodes(root_nodes)\n",
    "# for n in result_nodes:\n",
    "#     print(n.name)"
   ],
   "id": "16c69ed80dda2d48",
   "execution_count": 72,
   "outputs": []
  },
  {
   "metadata": {
    "ExecuteTime": {
     "end_time": "2024-06-22T10:21:17.763663Z",
     "start_time": "2024-06-22T10:21:17.722664Z"
    }
   },
   "cell_type": "code",
   "source": [
    "from pre import html_processor\n",
    "\n",
    "# 按照url去读取文件\n",
    "def read(name, url):\n",
    "    dst_url = root_path + '\\\\documents\\\\' + url\n",
    "\n",
    "    content = html_processor.html_to_markdown(dst_url)\n",
    "    \n",
    "    if len(content) > 1000:\n",
    "        print(name)\n",
    "    else:\n",
    "        print(content)\n",
    "        print('\\n\\n')\n",
    "for node in result_nodes:\n",
    "    read(node.name, node.url)"
   ],
   "id": "56432a672abf92bd",
   "execution_count": 64,
   "outputs": []
  },
  {
   "metadata": {},
   "cell_type": "code",
   "execution_count": null,
   "source": "",
   "id": "726c1ab3d6966a55",
   "outputs": []
  }
 ],
 "metadata": {
  "kernelspec": {
   "display_name": "Python 3 (ipykernel)",
   "language": "python",
   "name": "python3"
  },
  "language_info": {
   "codemirror_mode": {
    "name": "ipython",
    "version": 3
   },
   "file_extension": ".py",
   "mimetype": "text/x-python",
   "name": "python",
   "nbconvert_exporter": "python",
   "pygments_lexer": "ipython3",
   "version": "3.9.19"
  }
 },
 "nbformat": 4,
 "nbformat_minor": 5
}
